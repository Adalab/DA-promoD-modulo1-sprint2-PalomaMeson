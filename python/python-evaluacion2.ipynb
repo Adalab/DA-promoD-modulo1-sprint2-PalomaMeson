{
 "cells": [
  {
   "attachments": {},
   "cell_type": "markdown",
   "metadata": {},
   "source": [
    "# EVALUACION 2 PYTHON"
   ]
  },
  {
   "attachments": {},
   "cell_type": "markdown",
   "metadata": {},
   "source": [
    "En esta evaluación tendremos que crearnos una clase. Estamos trabajando para una editorial y tienen muchos ficheros de tipo .txt. Quieren hacer un estudio de palabras de los textos que tienen, para ello nos piden que nos creemos una clase que:\n",
    "\n",
    "- Reciba dos parámetros en el método constructor: \n",
    "\n",
    "    - La ruta donde se encuentra el fichero\n",
    "    - El nombre y la extensión del fichero que quieren abrir. \n",
    "\n",
    "- Tenga un método que nos abra el fichero en python, como un único *string*. Este método tiene que ser capaz de abrir cualquier tipo de fichero y que este ubicado en cualquier ubicación de nuestros ordenadores. \n",
    "\n",
    "- Tenga un método que lea un número \"X\" de palabras del texto. En este caso, el número de palabras que queremos leer debe ser un parámetro de este método. En este código deberemos incluir:\n",
    "    - Que si nos pasan como valor de número de palabras un número que no sea *integer*, nos salga un mensaje por pantalla que nos avise que la operación no se pueden hacer ya que necesitamos que sea un número *integer*. \n",
    "\n",
    "- Similar que en el paso anterior, crea un método que nos permita leer \"X\" lineas del texto. En este caso, el número de lineas que quiere leer el usuario no debe ser un parámetro del método. Tendremos que:\n",
    "\n",
    "    - Crear un *input* en el método que le pregunte al usuario cuántas líneas quiere leer\n",
    "\n",
    "    - Que tenga un control de errores por si el valor que nos pasa el usuario no es correcto, como por ejemplo un valor decimal. \n",
    "\n",
    "    - Además tenemos que tener en cuenta en el código que puede que el usuario quiera leer todas las líneas del archivo. Incluye en el programa el código necesario para que si el usuario nos indica que quiere leer todas las líneas el programa lo pueda hacer.  \n",
    "\n",
    "    **BONUS** En vez de devolver el resultado como una lista de *string* devuelvelo como un único *string*. \n",
    "\n",
    "- En este punto de la evaluación ya os habréis dado cuenta que en este fichero las primeras lineas no corresponden al quijote. Pero entonces... ¿en qué punto empieza el libro del quijote? En concreto, el libro está comprendido entre la lineas 1780 y 74276. Crea un método que solo nos devuelva el contenido del libro, sin la introducción inicial. \n",
    "\n",
    "\n",
    "-  Crea un último método en la clase que nos permita extraer las veces que aparece determinada palabra en el libro. Para eso este método deberá: \n",
    "\n",
    "    - Recibir la palabra o palabras que quiere buscar el usuario en el texto. \n",
    "    - Devolver el número de veces que aparece dicha palabra. \n",
    "    - Para confirmar que vuestro código, deberéis buscar las siguientes palabras como ejemplos de este método: \n",
    "\n",
    "        - Quijote, debemos tener en cuenta que aparezca en mayúscula o en minúscula, es decir, \"Quijote\" o \"quijote\"\n",
    "\n",
    "        - Alonso,  debemos tener en cuenta que aparezca en mayúscula o en minúscula, es decir, \"Quijote\" o \"quijote\"\n",
    "\n",
    "        - Don Quijote, debemos tener en cuenta que aparezca en mayúscula o en minúscula, es decir, \"Quijote\" o \"quijote\"\n",
    "    \n",
    "- **Nota**: Puede que tengáis algunos problemas para abrir el fichero, esto es por el `encoding` que tiene. Para solucionar este problema deberéis usar un encoding = \"latin-1\"\n",
    "\n",
    "- **Nota**: El fichero de `quijote.txt` debe encontrarse en una carpeta llamada `data`, diferente de donde se encuentra este fichero jupyter con la resolución."
   ]
  },
  {
   "cell_type": "code",
   "execution_count": 35,
   "metadata": {},
   "outputs": [],
   "source": [
    "# primero importamos las librerias que vamos an necesitar\n",
    "import os\n",
    "import re"
   ]
  },
  {
   "cell_type": "code",
   "execution_count": 9,
   "metadata": {},
   "outputs": [],
   "source": [
    "# creamos nuestras variable\n",
    "mitxt = 'quijote'"
   ]
  },
  {
   "cell_type": "code",
   "execution_count": 28,
   "metadata": {},
   "outputs": [],
   "source": [
    "class Fichero_Txt:\n",
    "    def __init__(self, nombre_fichero, ruta = 'data',):\n",
    "        self.ruta = ruta\n",
    "        self.nombre_fichero = nombre_fichero\n",
    "    \n",
    "    def abrir_txt(self):\n",
    "        f_txt = open(f'{self.ruta}/{self.nombre_fichero}.txt', encoding= 'latin-1')\n",
    "        f = f_txt.read().replace('\\n', ' ').replace('  ', ' ')\n",
    "        return f[0:900] # ponemos una cantidad limitada para ver el string\n",
    "    \n",
    "    def leer_palabras(self, num_palabras):\n",
    "        txt_abierto = open(f'{self.ruta}/{self.nombre_fichero}.txt', encoding= 'latin-1')\n",
    "        txt_abierto= txt_abierto.read().replace(\"\\n\", \" \")\n",
    "        txt_abierto_lista = txt_abierto.split()\n",
    "        if isinstance(num_palabras, int):\n",
    "            return ' '.join(txt_abierto_lista[:num_palabras])\n",
    "        else:\n",
    "            return \"Error. El valor debe ser un numero entero\"\n",
    "    \n",
    "    def leer_lineas(self):\n",
    "        quijote_txt = open(f'{self.ruta}/{self.nombre_fichero}.txt', encoding= 'latin-1')\n",
    "        num_lineas = input('Dime cuantas lineas quieres que lea o dime todo para que lo lea entero: ')\n",
    "        if num_lineas == 'todo':\n",
    "            quijote_txt = open('data/quijote.txt', encoding='latin-1')\n",
    "            read_quijote = quijote_txt.readlines()\n",
    "            read_quijote = '\\n'.join(read_quijote)\n",
    "            read_quijote = read_quijote.replace('\\n', ' ')\n",
    "            return read_quijote[:900]\n",
    "        else:\n",
    "            try:\n",
    "                num_lineas = int(num_lineas)\n",
    "                read_quijote = quijote_txt.readlines()\n",
    "                read_quijote_final = read_quijote[:num_lineas]\n",
    "                read_quijote_final ='\\n'.join(read_quijote_final)\n",
    "                read_quijote_final = read_quijote_final.replace('\\n', ' ').replace('  ', ' ')\n",
    "                return read_quijote_final\n",
    "            except:\n",
    "                return \"Error. El valor debe ser un numero entero o pedir -todo- el texto\"\n",
    "            \n",
    "    def contenido_quijote(self):\n",
    "        quijote_txt = open(f'{self.ruta}/{self.nombre_fichero}.txt', encoding= 'latin-1')\n",
    "        lineas = quijote_txt.readlines()\n",
    "        contenido_string = \"\".join(lineas[1780:74276])\n",
    "        contenido_string = contenido_string.replace('\\n', ' ')\n",
    "        return contenido_string[:900]\n",
    "        \n",
    "    def contar_palabra(self):\n",
    "        palabra = input('Escribe la palabra que quieres buscar')\n",
    "        f_txt = open(f'{self.ruta}/{self.nombre_fichero}.txt', encoding= 'latin-1')\n",
    "        f = f_txt.read().replace('\\n', ' ').replace('  ', ' ')\n",
    "        find_palabras = re.findall(palabra, f)\n",
    "        num_palabras = len(find_palabras)\n",
    "        return num_palabras\n",
    "    "
   ]
  },
  {
   "cell_type": "code",
   "execution_count": 29,
   "metadata": {},
   "outputs": [],
   "source": [
    "# instanciamos la clase\n",
    "archivo_quijote = Fichero_Txt(mitxt)"
   ]
  },
  {
   "cell_type": "code",
   "execution_count": 30,
   "metadata": {},
   "outputs": [
    {
     "data": {
      "text/plain": [
       "'Project Gutenberg Etext of Don Quijote, by Cervantes, in Spanish #2 in our series by Cervantes  We will be presenting two versions of this, one in HTML and one in \"Plain Upper ASCII Spanish.\"  The HTML file will have \"h\" as the last character in the name... such as 2donq10h.htm and the plain file will be 2donq10.txt   Also see Jul 1997 Don Quixote, by Miguel de Cervantes--[1donqxxx.xxx] 996   Copyright laws are changing all over the world, be sure to check the copyright laws for your country before posting these files!!  Please take a look at the important information in this header. We encourage you to keep this file on your own disk, keeping an electronic path open for the next readers. Do not remove this.   **Welcome To The World of Free Plain Vanilla Electronic Texts**  **Etexts Readable By Both Humans and By Computers, Since 1971**  *These Etexts Prepared By Hundreds of Volunteers a'"
      ]
     },
     "execution_count": 30,
     "metadata": {},
     "output_type": "execute_result"
    }
   ],
   "source": [
    "# probamos el método de abrir el txt\n",
    "archivo_quijote.abrir_txt()"
   ]
  },
  {
   "cell_type": "code",
   "execution_count": 31,
   "metadata": {},
   "outputs": [
    {
     "data": {
      "text/plain": [
       "'Project Gutenberg Etext of Don Quijote, by'"
      ]
     },
     "execution_count": 31,
     "metadata": {},
     "output_type": "execute_result"
    }
   ],
   "source": [
    "# probamos el método de leer un numero determinado de palabras\n",
    "archivo_quijote.leer_palabras(7)"
   ]
  },
  {
   "cell_type": "code",
   "execution_count": 32,
   "metadata": {},
   "outputs": [
    {
     "data": {
      "text/plain": [
       "'Project Gutenberg Etext of Don Quijote, by Cervantes, in Spanish  #2 in our series by Cervantes    We will be presenting two versions of this, one in HTML and one  in \"Plain Upper ASCII Spanish.\"    The HTML file will have \"h\" as the last character in the name...  such as 2donq10h.htm and the plain file will be 2donq10.txt      Also see  Jul 1997 Don Quixote, by Miguel de Cervantes--[1donqxxx.xxx] 996      Copyright laws are changing all over the world, be sure to check  the copyright laws for your country before posting these files!!    Please take a look at the important information in this header.  We encourage you to keep this file on your own disk, keeping an  electronic path open for the next readers. Do not remove this.      **Welcome To The World of Free Plain Vanilla Electronic Texts**    **Etexts Readable By Both Humans and By Computers, Since 1971**    *These Etexts Prepared By Hundreds of Volunteers and Donations*    Information on contacting Project Gutenberg to get Etexts, and  further information is included below. We need your donations.      Don Quijote    by Miguel de Cervantes [Saavedra] [in Spanish]    December, 1999 [Etext #2000]      Project Gutenberg Etext of Don Quijote, by Cervantes, in Spanish  '"
      ]
     },
     "execution_count": 32,
     "metadata": {},
     "output_type": "execute_result"
    }
   ],
   "source": [
    "# probamos el método de leer líneas\n",
    "archivo_quijote.leer_lineas()"
   ]
  },
  {
   "cell_type": "code",
   "execution_count": 33,
   "metadata": {},
   "outputs": [
    {
     "data": {
      "text/plain": [
       "'En un lugar de la Mancha, de cuyo nombre no quiero acordarme, no ha mucho  tiempo que vivía un hidalgo de los de lanza en astillero, adarga antigua,  rocín flaco y galgo corredor. Una olla de algo más vaca que carnero,  salpicón las más noches, duelos y quebrantos los sábados, lantejas los  viernes, algún palomino de añadidura los domingos, consumían las tres  partes de su hacienda. El resto della concluían sayo de velarte, calzas de  velludo para las fiestas, con sus pantuflos de lo mesmo, y los días de  entresemana se honraba con su vellorí de lo más fino. Tenía en su casa una  ama que pasaba de los cuarenta, y una sobrina que no llegaba a los veinte,  y un mozo de campo y plaza, que así ensillaba el rocín como tomaba la  podadera. Frisaba la edad de nuestro hidalgo con los cincuenta años; era de  complexión recia, seco de carnes, enjuto de rostro, gran madrugador y amigo  de la caza. '"
      ]
     },
     "execution_count": 33,
     "metadata": {},
     "output_type": "execute_result"
    }
   ],
   "source": [
    "# probamos el método de contenido directamente:\n",
    "archivo_quijote.contenido_quijote()"
   ]
  },
  {
   "cell_type": "code",
   "execution_count": 36,
   "metadata": {},
   "outputs": [
    {
     "data": {
      "text/plain": [
       "221"
      ]
     },
     "execution_count": 36,
     "metadata": {},
     "output_type": "execute_result"
    }
   ],
   "source": [
    "# probamos el último método, de contar palabras\n",
    "archivo_quijote.contar_palabra()"
   ]
  }
 ],
 "metadata": {
  "kernelspec": {
   "display_name": "adalabenv",
   "language": "python",
   "name": "python3"
  },
  "language_info": {
   "codemirror_mode": {
    "name": "ipython",
    "version": 3
   },
   "file_extension": ".py",
   "mimetype": "text/x-python",
   "name": "python",
   "nbconvert_exporter": "python",
   "pygments_lexer": "ipython3",
   "version": "3.10.9"
  },
  "orig_nbformat": 4
 },
 "nbformat": 4,
 "nbformat_minor": 2
}
